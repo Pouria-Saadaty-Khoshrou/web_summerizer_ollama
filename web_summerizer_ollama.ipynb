{
 "cells": [
  {
   "cell_type": "code",
   "execution_count": 12,
   "id": "58a4b5f1-e73a-47c9-acd8-826821e41026",
   "metadata": {},
   "outputs": [],
   "source": [
    "import requests\n",
    "from IPython.display import Markdown, display\n",
    "from bs4 import BeautifulSoup\n",
    "import ollama"
   ]
  },
  {
   "cell_type": "code",
   "execution_count": 8,
   "id": "c3ee6145-7a17-4e6e-877e-954230ce4a80",
   "metadata": {},
   "outputs": [],
   "source": [
    "headers = {\n",
    " \"User-Agent\": \"Mozilla/5.0 (Windows NT 10.0; Win64; x64) AppleWebKit/537.36 (KHTML, like Gecko) Chrome/117.0.0.0 Safari/537.36\"\n",
    "}\n",
    "\n",
    "class Website:\n",
    "    def __init__(self, url):\n",
    "        self.url = url\n",
    "        response = requests.get(self.url, headers=headers)\n",
    "        soup = BeautifulSoup(response.content, 'html.parser')\n",
    "        self.title = soup.title.string if soup.title else \"No Title\"\n",
    "        for irrelevent in soup.body([\"script\", \"style\", \"img\", \"input\"]):\n",
    "            irrelevent.decompose()\n",
    "        self.text = soup.body.get_text(separator='\\n', strip=True)"
   ]
  },
  {
   "cell_type": "code",
   "execution_count": 9,
   "id": "e8568e09-2d0f-4c6c-a901-62d3374a33f4",
   "metadata": {},
   "outputs": [],
   "source": [
    "website=Website('https://edwarddonner.com')"
   ]
  },
  {
   "cell_type": "code",
   "execution_count": null,
   "id": "2dee45ae-c866-45a7-92ad-691516ede28b",
   "metadata": {},
   "outputs": [],
   "source": [
    "\n",
    "\n",
    "messages = [\n",
    "    {'role': 'system', 'content':\"\"}\n",
    "    {'role': 'user', 'content':''}\n",
    "]"
   ]
  },
  {
   "cell_type": "code",
   "execution_count": null,
   "id": "652875f5-096f-4b0c-a34c-d1295b78092b",
   "metadata": {},
   "outputs": [],
   "source": [
    "def user_prompt_for(website):\n",
    "    user_prompt = f\"You are looking at a website titled {website.title}\"\n",
    "    user_prompt += \"\\nThe contents of this website is as follows; \\\n",
    "please provide a short summary of this website in markdown. \\\n",
    "If it includes news or announcements, then summarize these too.\\n\\n\"\n",
    "    user_prompt += website.text\n",
    "    return user_prompt"
   ]
  },
  {
   "cell_type": "code",
   "execution_count": null,
   "id": "80883bc2-f44a-46fc-bb6f-6000c47a7252",
   "metadata": {},
   "outputs": [],
   "source": []
  }
 ],
 "metadata": {
  "kernelspec": {
   "display_name": "Python 3 (ipykernel)",
   "language": "python",
   "name": "python3"
  },
  "language_info": {
   "codemirror_mode": {
    "name": "ipython",
    "version": 3
   },
   "file_extension": ".py",
   "mimetype": "text/x-python",
   "name": "python",
   "nbconvert_exporter": "python",
   "pygments_lexer": "ipython3",
   "version": "3.11.11"
  }
 },
 "nbformat": 4,
 "nbformat_minor": 5
}
